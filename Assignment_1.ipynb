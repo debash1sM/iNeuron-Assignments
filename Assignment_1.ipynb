{
  "nbformat": 4,
  "nbformat_minor": 0,
  "metadata": {
    "colab": {
      "provenance": []
    },
    "kernelspec": {
      "name": "python3",
      "display_name": "Python 3"
    },
    "language_info": {
      "name": "python"
    }
  },
  "cells": [
    {
      "cell_type": "markdown",
      "source": [
        "**1.** In the below elements which of them are values or an expression? eg:- values can be\n",
        "integer or string and expressions will be mathematical operators.\n",
        "\n",
        "\n",
        "\n",
        "```\n",
        "Values:\n",
        "\n",
        "  \"hello\" (string)\n",
        "  -87.8 (floating-point number)\n",
        "  6 (integer)\n",
        "\n",
        "Expressions :\n",
        "\n",
        "  +\n",
        "  -\n",
        "  /\n",
        "  +\n",
        "```\n",
        "\n"
      ],
      "metadata": {
        "id": "XdNZdFpo_PJm"
      }
    },
    {
      "cell_type": "markdown",
      "source": [
        "**2.** What is the difference between string and variable?\n",
        "\n",
        "\n",
        "```\n",
        "String : Stringn is a data type in python. Combination of multiple characters forms string. It is denoted by '' or \"\".\n",
        "Anything inside quotes consides as string.\n",
        "Ex : \"Hello\",\"123\".\n",
        "\n",
        "Variables : Variables are nothing but names that refers to particular value. In variable we can store various data types including string.\n",
        "We mainly store data in variable to denote identically and manipulate it.\n",
        "Python can dynamically update data type of a variable in run time so that user don't have to mention data type while creation of variable.\n",
        "Ex:\n",
        "num1 = 45\n",
        "str = \"Hello\"\n",
        "```\n",
        "\n"
      ],
      "metadata": {
        "id": "qqTGemqH_-gF"
      }
    },
    {
      "cell_type": "markdown",
      "source": [
        "**3.** Describe three different data types.\n",
        "\n",
        "\n",
        "```\n",
        "# In python there are mainly 5 data types available.\n",
        "* Numeric\n",
        "* Dictionary(key - value pair)\n",
        "* Sets\n",
        "* Boolean\n",
        "* Iterables\n",
        "\n",
        "Here we are going to talk about Numeric, Boolean and Iterables.\n",
        "\n",
        "* Numeric : Numeric data type contains numeric values in python. Like,\n",
        "  * integers : It can contain positive and negative whole number like 1, 100, 41 etc.\n",
        "  * float : It can contain numeric values with decimal numbers. like, 3.14, 100.0 etc.\n",
        "  * complex : It can contain complex values which contain both real and imaginary values.\n",
        "    ex: 8 + 7j. Here 8 is real part anf 7 is imaginary part.\n",
        "    Here imaginary part is denoted by 'j' unlike mathematics where imaginary part is denoted by 'i'\n",
        "\n",
        "* Boolean : Boolean values can contain only two types of values True or False.\n",
        "Other than these two other data types can be used to get its boolean value using bool() function.\n",
        "  * True(Truthy) : All integers (except 0), Non-blank list, tuples, strings.\n",
        "  * False(Falsy) : None, 0 , [], (), '' etc.\n",
        "\n",
        "* Iterables : Any object that can be converted to iterator is called iterables.\n",
        "It is nothing but ordered collection of similar or different data types.\n",
        "  * Ex: list,sttings, tuples.\n",
        "    * list : It is mutable, ordered collection of similar or different data types.\n",
        "      * Ex : [1,2,3]\n",
        "    * strings : explained earlier.\n",
        "    * tuples : It is ordered but immutable data type in python.\n",
        "      *ex: (1,2,3)\n",
        "  * To convert iterable to iterator we can use iter() function.\n",
        "  * We can directly use for loop on iterable data types.\n",
        "```\n",
        "\n"
      ],
      "metadata": {
        "id": "VnJjkuB-D6Pt"
      }
    },
    {
      "cell_type": "markdown",
      "source": [
        "**4.1.** What is an expression made up of?\n",
        "\n",
        "\n",
        "```\n",
        "# An expression is made up of mainly operands and operators.\n",
        "Operands are the values or variables that are involved in the calculation, like x(variable), 3(int), or \"hello\"(str).\n",
        "Operators are the symbols that specify how to combine the operands, like +, -, *, /, or ==.\n",
        "\n",
        "  *Ex : a = 5 ** 2  # a = 25\n",
        "  Here 5,2 are operands and ** is operator.\n",
        "```\n",
        "\n",
        "\n",
        "**4.2.** What do all expressions do?\n",
        "\n",
        "```\n",
        "# All expressions produce a value of some type after performing some calculation.\n",
        "The type and value of the expression depend on the operands and operators involved.\n",
        "  * In previous example 25 is the value of the calculation.\n",
        "Expressions can be used to assign values to variables, pass arguments to functions, or test conditions.\n",
        "  * In previous example we assigns resultant value (25) in variable a to store.\n",
        "```"
      ],
      "metadata": {
        "id": "eYEYwMJTJ4q3"
      }
    },
    {
      "cell_type": "markdown",
      "source": [
        "**5.** This assignment statements, like spam = 10. What is the difference between an expression and a statement?\n",
        "\n",
        "\n",
        "\n",
        "```\n",
        "* The primary purpose of an expression is to compute a value.\n",
        "* The primary purpose of a statement is to perform an action or control the flow of the program.\n",
        "\n",
        "In the example spam = 10, it is an assignment statement where the right side (10) is an expression.\n",
        "The expression 10 is a value, and the assignment statement stores that value in the variable spam.\n",
        "\n",
        "* We can say from this example ,\n",
        "expressions can be used as parts of statements, but not vice versa\n",
        "```\n",
        "\n"
      ],
      "metadata": {
        "id": "Hoo_sGroM4M-"
      }
    },
    {
      "cell_type": "markdown",
      "source": [
        "**6.** After running the following code, what does the variable bacon contain?\n",
        "\n",
        "```\n",
        "It is a series of statemet and expression,\n",
        "\n",
        "bacon = 22\n",
        "\n",
        "  * Here, this is an assignment statement.\n",
        "  It assigns the value 22 to the variable bacon.\n",
        "  After this line executes, the variable bacon holds the value 22.\n",
        "\n",
        "bacon + 1\n",
        "\n",
        "  * This is an expression.\n",
        "  It evaluates to the value 23 because it adds 1 to the current value of bacon.\n",
        "  But, this expression is not used or stored anywhere, and the result (23) is not assigned to any variable.\n",
        "\n",
        "\n",
        "So after runing the code, bacon contains 22.\n",
        "```\n",
        "\n"
      ],
      "metadata": {
        "id": "SFzI2MweOoMv"
      }
    },
    {
      "cell_type": "markdown",
      "source": [
        "**7.** What should the values of the following two terms be?\n",
        "\n",
        "`'spam' + 'spamspam' => 'spamspamspam'`\n",
        "`'spam' * 3 => 'spamspamspam'`"
      ],
      "metadata": {
        "id": "2vC2fNlYQEnA"
      }
    },
    {
      "cell_type": "markdown",
      "source": [
        "**8.** Why is eggs a valid variable name while 100 is invalid?\n",
        "\n",
        "\n",
        "\n",
        "```\n",
        "# There are certain rules while declaring a variable name in python,\n",
        "  * Must start with a letter (a-z, A-Z) or an underscore (_).\n",
        "  * Other than the first letter, characters can be letters, numbers, or underscores.\n",
        "  * It cannot be a Python keyword like if,else,try etc.\n",
        "\n",
        "eggs: This is a valid variable name because it starts with a letter.\n",
        "\n",
        "100: This is not a valid variable name because it starts with a number, which violates the rule number 2.\n",
        "```\n",
        "\n"
      ],
      "metadata": {
        "id": "J5CPlEKxQbyP"
      }
    },
    {
      "cell_type": "markdown",
      "source": [
        "**9.** What three functions can be used to get the integer, floating-point number, or string version of a value?\n",
        "\n",
        "\n",
        "\n",
        "```\n",
        "#\n",
        "* int() : To get integer version of a valid value.\n",
        "* float() : To get floating-point version of a valid value.\n",
        "* str() : To get string version of a valid value.\n",
        "```\n",
        "\n"
      ],
      "metadata": {
        "id": "wDl0i_ZARbAm"
      }
    },
    {
      "cell_type": "markdown",
      "source": [
        "**10.1.** Why does this expression cause an error?\n",
        ">**'I have eaten ' + 99 + ' burritos.'**\n",
        "\n",
        "\n",
        "```\n",
        "# Here, user is trying to concatenate two different types of data.\n",
        "  * 'I have eaten ' > string\n",
        "  * 99 > integer\n",
        "  * ' burritos.' > string\n",
        "```\n",
        "\n",
        "**10.2.** How can you fix it?\n",
        "\n",
        "\n",
        "\n",
        "```\n",
        "# To solve this problem, I can typecast the 99(integer) into string using str() function.\n",
        "\n",
        "'I have eaten ' + str(99) + ' burritos.'\n",
        "```\n",
        "\n",
        "\n"
      ],
      "metadata": {
        "id": "0dkbrRpdSGxH"
      }
    }
  ]
}